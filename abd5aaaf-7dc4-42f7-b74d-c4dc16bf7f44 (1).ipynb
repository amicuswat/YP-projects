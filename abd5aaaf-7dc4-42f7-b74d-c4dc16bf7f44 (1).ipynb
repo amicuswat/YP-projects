{
 "cells": [
  {
   "cell_type": "markdown",
   "metadata": {},
   "source": [
    "Привет! Как дела?) ☺️\n",
    "<br> Меня зовут Дуолан 👋 Буду проверять твой проект. Давай вместе доведем его до идеала 😉\n",
    "<br> Дальнейшее общение будет происходить на «ты», если это не вызывает никаких проблем.\n",
    "<br> Желательно реагировать на каждый мой комментарий («исправил», «не понятно как исправить ошибку», ...)\n",
    "<br> Пожалуйста, не удаляй мои комментарии, они будут необходимы для повторного ревью.\n",
    "\n",
    "Комментарии будут в <font color='green'>зеленой</font>, <font color='blue'>синей</font> или <font color='red'>красной</font> рамках:\n",
    "\n",
    "<div class=\"alert alert-block alert-success\">\n",
    "<b>✔️ Успех:</b> Если все сделано отлично\n",
    "</div>\n",
    "\n",
    "<div class=\"alert alert-block alert-warning\">\n",
    "<b>⚠️ Совет:</b> Если можно немного улучшить\n",
    "</div>\n",
    "\n",
    "<div class=\"alert alert-block alert-danger\">\n",
    "<b>❌ Замечание:</b> Если требуются исправления\n",
    "</div>\n",
    "\n",
    "Работа не может быть принята с красными комментариями.\n",
    "\n",
    "-------------------\n",
    "\n",
    "Будет очень хорошо, если ты будешь помечать свои действия следующим образом:\n",
    "\n",
    "<div class=\"alert alert-block alert-info\">\n",
    "<b>Комментарий студента:</b> ...\n",
    "</div>\n",
    "\n",
    "<div class=\"alert alert-block alert-info\">\n",
    "<b>Изменения:</b> Были внесены следующие изменения ...\n",
    "</div>"
   ]
  },
  {
   "cell_type": "markdown",
   "metadata": {
    "toc": true
   },
   "source": [
    "<h1>Содержание<span class=\"tocSkip\"></span></h1>\n",
    "<div class=\"toc\"><ul class=\"toc-item\"><li><span><a href=\"#Подготовка-данных\" data-toc-modified-id=\"Подготовка-данных-1\"><span class=\"toc-item-num\">1&nbsp;&nbsp;</span>Подготовка данных</a></span></li><li><span><a href=\"#Исследование-задачи\" data-toc-modified-id=\"Исследование-задачи-2\"><span class=\"toc-item-num\">2&nbsp;&nbsp;</span>Исследование задачи</a></span></li><li><span><a href=\"#Борьба-с-дисбалансом\" data-toc-modified-id=\"Борьба-с-дисбалансом-3\"><span class=\"toc-item-num\">3&nbsp;&nbsp;</span>Борьба с дисбалансом</a></span></li><li><span><a href=\"#Тестирование-модели\" data-toc-modified-id=\"Тестирование-модели-4\"><span class=\"toc-item-num\">4&nbsp;&nbsp;</span>Тестирование модели</a></span></li><li><span><a href=\"#Чек-лист-готовности-проекта\" data-toc-modified-id=\"Чек-лист-готовности-проекта-5\"><span class=\"toc-item-num\">5&nbsp;&nbsp;</span>Чек-лист готовности проекта</a></span></li></ul></div>"
   ]
  },
  {
   "cell_type": "markdown",
   "metadata": {},
   "source": [
    "# Отток клиентов"
   ]
  },
  {
   "cell_type": "markdown",
   "metadata": {},
   "source": [
    "Из «Бета-Банка» стали уходить клиенты. Каждый месяц. Немного, но заметно. Банковские маркетологи посчитали: сохранять текущих клиентов дешевле, чем привлекать новых.\n",
    "\n",
    "Нужно спрогнозировать, уйдёт клиент из банка в ближайшее время или нет. Вам предоставлены исторические данные о поведении клиентов и расторжении договоров с банком. \n",
    "\n",
    "Постройте модель с предельно большим значением *F1*-меры. Чтобы сдать проект успешно, нужно довести метрику до 0.59. Проверьте *F1*-меру на тестовой выборке самостоятельно.\n",
    "\n",
    "Дополнительно измеряйте *AUC-ROC*, сравнивайте её значение с *F1*-мерой.\n",
    "\n",
    "Источник данных: [https://www.kaggle.com/barelydedicated/bank-customer-churn-modeling](https://www.kaggle.com/barelydedicated/bank-customer-churn-modeling)"
   ]
  },
  {
   "cell_type": "markdown",
   "metadata": {},
   "source": [
    "<div class=\"alert alert-block alert-warning\">\n",
    "<b>⚠️ Совет:</b> \n",
    "\n",
    "Важно чтобы в проектах было подробное описание: когда потенциальные работодатели будут смотреть твой проект в портфолио, им нужно будет понимать задачу, чтобы можно было оценить её решение. Вот что можно добавить:\n",
    "    \n",
    "* Описание целей и задачи проекта\n",
    "* Описание данных\n",
    "* План работы\n",
    "\n",
    "И рекомендую писать введение от первого лица множественного числа. Так работа выглядит более самостоятельной)\n",
    "</div>"
   ]
  },
  {
   "cell_type": "markdown",
   "metadata": {},
   "source": [
    "## Подготовка данных\n",
    "<br>\n",
    "<div style=\"margin: 10px 50px 10px 0px; padding: 20px; border: teal solid 1px \">\n",
    " Данные находятся в файле <code>/datasets/Churn.csv</code>\n",
    "    </div>"
   ]
  },
  {
   "cell_type": "markdown",
   "metadata": {},
   "source": [
    "<br>\n",
    "<div style=\"margin: 10px 50px 10px 0px; padding: 20px; border: teal solid 1px \">\n",
    "Признаки<br>\n",
    "RowNumber — индекс строки в данных<br>\n",
    "CustomerId — уникальный идентификатор клиента<br>\n",
    "Surname — фамилия<br>\n",
    "CreditScore — кредитный рейтинг<br>\n",
    "Geography — страна проживания<br>\n",
    "Gender — пол<br>\n",
    "Age — возраст<br>\n",
    "Tenure — сколько лет человек является клиентом банка<br>\n",
    "Balance — баланс на счёте<br>\n",
    "NumOfProducts — количество продуктов банка, используемых клиентом<br>\n",
    "HasCrCard — наличие кредитной карты<br>\n",
    "IsActiveMember — активность клиента<br>\n",
    "EstimatedSalary — предполагаемая зарплата<br>\n",
    "Целевой признак<br>\n",
    "Exited — факт ухода клиента<br>\n",
    "    </div>\n"
   ]
  },
  {
   "cell_type": "code",
   "execution_count": 1,
   "metadata": {},
   "outputs": [],
   "source": [
    "import pandas as pd\n",
    "\n",
    "from sklearn.linear_model import LinearRegression\n",
    "from sklearn.tree import DecisionTreeClassifier\n",
    "from sklearn.ensemble import RandomForestClassifier\n",
    "\n",
    "from sklearn.model_selection import train_test_split\n",
    "from sklearn.metrics import f1_score\n",
    "from sklearn.metrics import roc_auc_score\n",
    "from sklearn.utils import shuffle"
   ]
  },
  {
   "cell_type": "code",
   "execution_count": 2,
   "metadata": {},
   "outputs": [],
   "source": [
    "df = pd.read_csv('Churn.csv')"
   ]
  },
  {
   "cell_type": "code",
   "execution_count": 3,
   "metadata": {
    "scrolled": true
   },
   "outputs": [
    {
     "data": {
      "text/html": [
       "<div>\n",
       "<style scoped>\n",
       "    .dataframe tbody tr th:only-of-type {\n",
       "        vertical-align: middle;\n",
       "    }\n",
       "\n",
       "    .dataframe tbody tr th {\n",
       "        vertical-align: top;\n",
       "    }\n",
       "\n",
       "    .dataframe thead th {\n",
       "        text-align: right;\n",
       "    }\n",
       "</style>\n",
       "<table border=\"1\" class=\"dataframe\">\n",
       "  <thead>\n",
       "    <tr style=\"text-align: right;\">\n",
       "      <th></th>\n",
       "      <th>RowNumber</th>\n",
       "      <th>CustomerId</th>\n",
       "      <th>Surname</th>\n",
       "      <th>CreditScore</th>\n",
       "      <th>Geography</th>\n",
       "      <th>Gender</th>\n",
       "      <th>Age</th>\n",
       "      <th>Tenure</th>\n",
       "      <th>Balance</th>\n",
       "      <th>NumOfProducts</th>\n",
       "      <th>HasCrCard</th>\n",
       "      <th>IsActiveMember</th>\n",
       "      <th>EstimatedSalary</th>\n",
       "      <th>Exited</th>\n",
       "    </tr>\n",
       "  </thead>\n",
       "  <tbody>\n",
       "    <tr>\n",
       "      <th>0</th>\n",
       "      <td>1</td>\n",
       "      <td>15634602</td>\n",
       "      <td>Hargrave</td>\n",
       "      <td>619</td>\n",
       "      <td>France</td>\n",
       "      <td>Female</td>\n",
       "      <td>42</td>\n",
       "      <td>2.0</td>\n",
       "      <td>0.00</td>\n",
       "      <td>1</td>\n",
       "      <td>1</td>\n",
       "      <td>1</td>\n",
       "      <td>101348.88</td>\n",
       "      <td>1</td>\n",
       "    </tr>\n",
       "    <tr>\n",
       "      <th>1</th>\n",
       "      <td>2</td>\n",
       "      <td>15647311</td>\n",
       "      <td>Hill</td>\n",
       "      <td>608</td>\n",
       "      <td>Spain</td>\n",
       "      <td>Female</td>\n",
       "      <td>41</td>\n",
       "      <td>1.0</td>\n",
       "      <td>83807.86</td>\n",
       "      <td>1</td>\n",
       "      <td>0</td>\n",
       "      <td>1</td>\n",
       "      <td>112542.58</td>\n",
       "      <td>0</td>\n",
       "    </tr>\n",
       "    <tr>\n",
       "      <th>2</th>\n",
       "      <td>3</td>\n",
       "      <td>15619304</td>\n",
       "      <td>Onio</td>\n",
       "      <td>502</td>\n",
       "      <td>France</td>\n",
       "      <td>Female</td>\n",
       "      <td>42</td>\n",
       "      <td>8.0</td>\n",
       "      <td>159660.80</td>\n",
       "      <td>3</td>\n",
       "      <td>1</td>\n",
       "      <td>0</td>\n",
       "      <td>113931.57</td>\n",
       "      <td>1</td>\n",
       "    </tr>\n",
       "    <tr>\n",
       "      <th>3</th>\n",
       "      <td>4</td>\n",
       "      <td>15701354</td>\n",
       "      <td>Boni</td>\n",
       "      <td>699</td>\n",
       "      <td>France</td>\n",
       "      <td>Female</td>\n",
       "      <td>39</td>\n",
       "      <td>1.0</td>\n",
       "      <td>0.00</td>\n",
       "      <td>2</td>\n",
       "      <td>0</td>\n",
       "      <td>0</td>\n",
       "      <td>93826.63</td>\n",
       "      <td>0</td>\n",
       "    </tr>\n",
       "    <tr>\n",
       "      <th>4</th>\n",
       "      <td>5</td>\n",
       "      <td>15737888</td>\n",
       "      <td>Mitchell</td>\n",
       "      <td>850</td>\n",
       "      <td>Spain</td>\n",
       "      <td>Female</td>\n",
       "      <td>43</td>\n",
       "      <td>2.0</td>\n",
       "      <td>125510.82</td>\n",
       "      <td>1</td>\n",
       "      <td>1</td>\n",
       "      <td>1</td>\n",
       "      <td>79084.10</td>\n",
       "      <td>0</td>\n",
       "    </tr>\n",
       "  </tbody>\n",
       "</table>\n",
       "</div>"
      ],
      "text/plain": [
       "   RowNumber  CustomerId   Surname  CreditScore Geography  Gender  Age  \\\n",
       "0          1    15634602  Hargrave          619    France  Female   42   \n",
       "1          2    15647311      Hill          608     Spain  Female   41   \n",
       "2          3    15619304      Onio          502    France  Female   42   \n",
       "3          4    15701354      Boni          699    France  Female   39   \n",
       "4          5    15737888  Mitchell          850     Spain  Female   43   \n",
       "\n",
       "   Tenure    Balance  NumOfProducts  HasCrCard  IsActiveMember  \\\n",
       "0     2.0       0.00              1          1               1   \n",
       "1     1.0   83807.86              1          0               1   \n",
       "2     8.0  159660.80              3          1               0   \n",
       "3     1.0       0.00              2          0               0   \n",
       "4     2.0  125510.82              1          1               1   \n",
       "\n",
       "   EstimatedSalary  Exited  \n",
       "0        101348.88       1  \n",
       "1        112542.58       0  \n",
       "2        113931.57       1  \n",
       "3         93826.63       0  \n",
       "4         79084.10       0  "
      ]
     },
     "execution_count": 3,
     "metadata": {},
     "output_type": "execute_result"
    }
   ],
   "source": [
    "df.head()"
   ]
  },
  {
   "cell_type": "code",
   "execution_count": 4,
   "metadata": {},
   "outputs": [
    {
     "data": {
      "text/html": [
       "<div>\n",
       "<style scoped>\n",
       "    .dataframe tbody tr th:only-of-type {\n",
       "        vertical-align: middle;\n",
       "    }\n",
       "\n",
       "    .dataframe tbody tr th {\n",
       "        vertical-align: top;\n",
       "    }\n",
       "\n",
       "    .dataframe thead th {\n",
       "        text-align: right;\n",
       "    }\n",
       "</style>\n",
       "<table border=\"1\" class=\"dataframe\">\n",
       "  <thead>\n",
       "    <tr style=\"text-align: right;\">\n",
       "      <th></th>\n",
       "      <th>RowNumber</th>\n",
       "      <th>CustomerId</th>\n",
       "      <th>Surname</th>\n",
       "      <th>CreditScore</th>\n",
       "      <th>Geography</th>\n",
       "      <th>Gender</th>\n",
       "      <th>Age</th>\n",
       "      <th>Tenure</th>\n",
       "      <th>Balance</th>\n",
       "      <th>NumOfProducts</th>\n",
       "      <th>HasCrCard</th>\n",
       "      <th>IsActiveMember</th>\n",
       "      <th>EstimatedSalary</th>\n",
       "      <th>Exited</th>\n",
       "    </tr>\n",
       "  </thead>\n",
       "  <tbody>\n",
       "    <tr>\n",
       "      <th>9995</th>\n",
       "      <td>9996</td>\n",
       "      <td>15606229</td>\n",
       "      <td>Obijiaku</td>\n",
       "      <td>771</td>\n",
       "      <td>France</td>\n",
       "      <td>Male</td>\n",
       "      <td>39</td>\n",
       "      <td>5.0</td>\n",
       "      <td>0.00</td>\n",
       "      <td>2</td>\n",
       "      <td>1</td>\n",
       "      <td>0</td>\n",
       "      <td>96270.64</td>\n",
       "      <td>0</td>\n",
       "    </tr>\n",
       "    <tr>\n",
       "      <th>9996</th>\n",
       "      <td>9997</td>\n",
       "      <td>15569892</td>\n",
       "      <td>Johnstone</td>\n",
       "      <td>516</td>\n",
       "      <td>France</td>\n",
       "      <td>Male</td>\n",
       "      <td>35</td>\n",
       "      <td>10.0</td>\n",
       "      <td>57369.61</td>\n",
       "      <td>1</td>\n",
       "      <td>1</td>\n",
       "      <td>1</td>\n",
       "      <td>101699.77</td>\n",
       "      <td>0</td>\n",
       "    </tr>\n",
       "    <tr>\n",
       "      <th>9997</th>\n",
       "      <td>9998</td>\n",
       "      <td>15584532</td>\n",
       "      <td>Liu</td>\n",
       "      <td>709</td>\n",
       "      <td>France</td>\n",
       "      <td>Female</td>\n",
       "      <td>36</td>\n",
       "      <td>7.0</td>\n",
       "      <td>0.00</td>\n",
       "      <td>1</td>\n",
       "      <td>0</td>\n",
       "      <td>1</td>\n",
       "      <td>42085.58</td>\n",
       "      <td>1</td>\n",
       "    </tr>\n",
       "    <tr>\n",
       "      <th>9998</th>\n",
       "      <td>9999</td>\n",
       "      <td>15682355</td>\n",
       "      <td>Sabbatini</td>\n",
       "      <td>772</td>\n",
       "      <td>Germany</td>\n",
       "      <td>Male</td>\n",
       "      <td>42</td>\n",
       "      <td>3.0</td>\n",
       "      <td>75075.31</td>\n",
       "      <td>2</td>\n",
       "      <td>1</td>\n",
       "      <td>0</td>\n",
       "      <td>92888.52</td>\n",
       "      <td>1</td>\n",
       "    </tr>\n",
       "    <tr>\n",
       "      <th>9999</th>\n",
       "      <td>10000</td>\n",
       "      <td>15628319</td>\n",
       "      <td>Walker</td>\n",
       "      <td>792</td>\n",
       "      <td>France</td>\n",
       "      <td>Female</td>\n",
       "      <td>28</td>\n",
       "      <td>NaN</td>\n",
       "      <td>130142.79</td>\n",
       "      <td>1</td>\n",
       "      <td>1</td>\n",
       "      <td>0</td>\n",
       "      <td>38190.78</td>\n",
       "      <td>0</td>\n",
       "    </tr>\n",
       "  </tbody>\n",
       "</table>\n",
       "</div>"
      ],
      "text/plain": [
       "      RowNumber  CustomerId    Surname  CreditScore Geography  Gender  Age  \\\n",
       "9995       9996    15606229   Obijiaku          771    France    Male   39   \n",
       "9996       9997    15569892  Johnstone          516    France    Male   35   \n",
       "9997       9998    15584532        Liu          709    France  Female   36   \n",
       "9998       9999    15682355  Sabbatini          772   Germany    Male   42   \n",
       "9999      10000    15628319     Walker          792    France  Female   28   \n",
       "\n",
       "      Tenure    Balance  NumOfProducts  HasCrCard  IsActiveMember  \\\n",
       "9995     5.0       0.00              2          1               0   \n",
       "9996    10.0   57369.61              1          1               1   \n",
       "9997     7.0       0.00              1          0               1   \n",
       "9998     3.0   75075.31              2          1               0   \n",
       "9999     NaN  130142.79              1          1               0   \n",
       "\n",
       "      EstimatedSalary  Exited  \n",
       "9995         96270.64       0  \n",
       "9996        101699.77       0  \n",
       "9997         42085.58       1  \n",
       "9998         92888.52       1  \n",
       "9999         38190.78       0  "
      ]
     },
     "execution_count": 4,
     "metadata": {},
     "output_type": "execute_result"
    }
   ],
   "source": [
    "df.tail()"
   ]
  },
  {
   "cell_type": "code",
   "execution_count": 5,
   "metadata": {
    "scrolled": false
   },
   "outputs": [
    {
     "name": "stdout",
     "output_type": "stream",
     "text": [
      "<class 'pandas.core.frame.DataFrame'>\n",
      "RangeIndex: 10000 entries, 0 to 9999\n",
      "Data columns (total 14 columns):\n",
      " #   Column           Non-Null Count  Dtype  \n",
      "---  ------           --------------  -----  \n",
      " 0   RowNumber        10000 non-null  int64  \n",
      " 1   CustomerId       10000 non-null  int64  \n",
      " 2   Surname          10000 non-null  object \n",
      " 3   CreditScore      10000 non-null  int64  \n",
      " 4   Geography        10000 non-null  object \n",
      " 5   Gender           10000 non-null  object \n",
      " 6   Age              10000 non-null  int64  \n",
      " 7   Tenure           9091 non-null   float64\n",
      " 8   Balance          10000 non-null  float64\n",
      " 9   NumOfProducts    10000 non-null  int64  \n",
      " 10  HasCrCard        10000 non-null  int64  \n",
      " 11  IsActiveMember   10000 non-null  int64  \n",
      " 12  EstimatedSalary  10000 non-null  float64\n",
      " 13  Exited           10000 non-null  int64  \n",
      "dtypes: float64(3), int64(8), object(3)\n",
      "memory usage: 1.1+ MB\n"
     ]
    }
   ],
   "source": [
    "df.info()"
   ]
  },
  {
   "cell_type": "markdown",
   "metadata": {},
   "source": [
    "<div style=\"margin: 10px 50px 10px 0px; padding: 20px; border: blue solid 1px \">\n",
    " В столбце Tenure есть пропуски. Их около 10%. Заполним их медианными значениями.\n",
    "    </div>"
   ]
  },
  {
   "cell_type": "markdown",
   "metadata": {},
   "source": [
    "<div class=\"alert alert-block alert-success\">\n",
    "<b>✔️ Успех:</b>\n",
    "\n",
    "Ты хорошо владеешь методами первичного анализа данных 👍\n",
    "</div>"
   ]
  },
  {
   "cell_type": "code",
   "execution_count": 6,
   "metadata": {
    "scrolled": true
   },
   "outputs": [
    {
     "data": {
      "text/plain": [
       "5     1836\n",
       "1      952\n",
       "2      950\n",
       "8      933\n",
       "3      928\n",
       "7      925\n",
       "4      885\n",
       "9      882\n",
       "6      881\n",
       "10     446\n",
       "0      382\n",
       "Name: Tenure, dtype: int64"
      ]
     },
     "execution_count": 6,
     "metadata": {},
     "output_type": "execute_result"
    }
   ],
   "source": [
    "df['Tenure'] = df['Tenure'].fillna(df['Tenure'].median())\n",
    "\n",
    "# убедимся что пропусков не осталось\n",
    "df['Tenure'] = df['Tenure'].astype(int)\n",
    "df['Tenure'].value_counts()"
   ]
  },
  {
   "cell_type": "markdown",
   "metadata": {},
   "source": [
    "<div class=\"alert alert-block alert-warning\">\n",
    "<b>⚠️ Совет:</b>\n",
    "\n",
    "Посмотри еще на такие варианты работы с пропусками:\n",
    "\n",
    "1. Распределение по годам использования банка практически ровное, если сейчас заменить 909 пропусков медианой, то мы увеличим в 2 раза значение для 5 лет. Это кажется некорректным. Можно сделать заполнение пропусков случайными числами, тогда мы снизим влияние на наше распределение.\n",
    "\n",
    "2. Так как значений в этом признаке ограниченное количество, можно сделать его категориальным признаком. Пропуски можно считать как за отдельную категорию (заполнить значением -1). Затем заменить тип данных Tenure на object и применить технику OHE.\n",
    "\n",
    "3. Заполнить \"0\", считая, что это новые клиенты.\n",
    "</div>"
   ]
  },
  {
   "cell_type": "markdown",
   "metadata": {},
   "source": [
    "<div style=\"margin: 10px 50px 10px 0px; padding: 20px; border: blue solid 1px \">\n",
    " Удалим столбцы которые не будут учавствовать в обучении модели.\n",
    "    </div>"
   ]
  },
  {
   "cell_type": "code",
   "execution_count": 7,
   "metadata": {
    "scrolled": false
   },
   "outputs": [
    {
     "name": "stdout",
     "output_type": "stream",
     "text": [
      "<class 'pandas.core.frame.DataFrame'>\n",
      "RangeIndex: 10000 entries, 0 to 9999\n",
      "Data columns (total 11 columns):\n",
      " #   Column           Non-Null Count  Dtype  \n",
      "---  ------           --------------  -----  \n",
      " 0   CreditScore      10000 non-null  int64  \n",
      " 1   Geography        10000 non-null  object \n",
      " 2   Gender           10000 non-null  object \n",
      " 3   Age              10000 non-null  int64  \n",
      " 4   Tenure           10000 non-null  int32  \n",
      " 5   Balance          10000 non-null  float64\n",
      " 6   NumOfProducts    10000 non-null  int64  \n",
      " 7   HasCrCard        10000 non-null  int64  \n",
      " 8   IsActiveMember   10000 non-null  int64  \n",
      " 9   EstimatedSalary  10000 non-null  float64\n",
      " 10  Exited           10000 non-null  int64  \n",
      "dtypes: float64(2), int32(1), int64(6), object(2)\n",
      "memory usage: 820.4+ KB\n"
     ]
    }
   ],
   "source": [
    "df = df.drop(columns=['RowNumber', 'CustomerId', 'Surname'])\n",
    "\n",
    "df.info()"
   ]
  },
  {
   "cell_type": "markdown",
   "metadata": {},
   "source": [
    "<div class=\"alert alert-block alert-success\">\n",
    "<b>✔️ Успех:</b>\n",
    "\n",
    "Удалить неинформативные признаки - хорошее решение 👍\n",
    "</div>"
   ]
  },
  {
   "cell_type": "markdown",
   "metadata": {},
   "source": [
    "<div style=\"margin: 10px 50px 10px 0px; padding: 20px; border: blue solid 1px \">\n",
    " Закодируем признаки, чтобы категориальные данные стали численными\n",
    "    </div>"
   ]
  },
  {
   "cell_type": "code",
   "execution_count": 8,
   "metadata": {
    "scrolled": true
   },
   "outputs": [
    {
     "data": {
      "text/html": [
       "<div>\n",
       "<style scoped>\n",
       "    .dataframe tbody tr th:only-of-type {\n",
       "        vertical-align: middle;\n",
       "    }\n",
       "\n",
       "    .dataframe tbody tr th {\n",
       "        vertical-align: top;\n",
       "    }\n",
       "\n",
       "    .dataframe thead th {\n",
       "        text-align: right;\n",
       "    }\n",
       "</style>\n",
       "<table border=\"1\" class=\"dataframe\">\n",
       "  <thead>\n",
       "    <tr style=\"text-align: right;\">\n",
       "      <th></th>\n",
       "      <th>CreditScore</th>\n",
       "      <th>Age</th>\n",
       "      <th>Tenure</th>\n",
       "      <th>Balance</th>\n",
       "      <th>NumOfProducts</th>\n",
       "      <th>HasCrCard</th>\n",
       "      <th>IsActiveMember</th>\n",
       "      <th>EstimatedSalary</th>\n",
       "      <th>Exited</th>\n",
       "      <th>Geography_France</th>\n",
       "      <th>Geography_Germany</th>\n",
       "      <th>Geography_Spain</th>\n",
       "      <th>Gender_Female</th>\n",
       "      <th>Gender_Male</th>\n",
       "    </tr>\n",
       "  </thead>\n",
       "  <tbody>\n",
       "    <tr>\n",
       "      <th>0</th>\n",
       "      <td>619</td>\n",
       "      <td>42</td>\n",
       "      <td>2</td>\n",
       "      <td>0.00</td>\n",
       "      <td>1</td>\n",
       "      <td>1</td>\n",
       "      <td>1</td>\n",
       "      <td>101348.88</td>\n",
       "      <td>1</td>\n",
       "      <td>1</td>\n",
       "      <td>0</td>\n",
       "      <td>0</td>\n",
       "      <td>1</td>\n",
       "      <td>0</td>\n",
       "    </tr>\n",
       "    <tr>\n",
       "      <th>1</th>\n",
       "      <td>608</td>\n",
       "      <td>41</td>\n",
       "      <td>1</td>\n",
       "      <td>83807.86</td>\n",
       "      <td>1</td>\n",
       "      <td>0</td>\n",
       "      <td>1</td>\n",
       "      <td>112542.58</td>\n",
       "      <td>0</td>\n",
       "      <td>0</td>\n",
       "      <td>0</td>\n",
       "      <td>1</td>\n",
       "      <td>1</td>\n",
       "      <td>0</td>\n",
       "    </tr>\n",
       "    <tr>\n",
       "      <th>2</th>\n",
       "      <td>502</td>\n",
       "      <td>42</td>\n",
       "      <td>8</td>\n",
       "      <td>159660.80</td>\n",
       "      <td>3</td>\n",
       "      <td>1</td>\n",
       "      <td>0</td>\n",
       "      <td>113931.57</td>\n",
       "      <td>1</td>\n",
       "      <td>1</td>\n",
       "      <td>0</td>\n",
       "      <td>0</td>\n",
       "      <td>1</td>\n",
       "      <td>0</td>\n",
       "    </tr>\n",
       "    <tr>\n",
       "      <th>3</th>\n",
       "      <td>699</td>\n",
       "      <td>39</td>\n",
       "      <td>1</td>\n",
       "      <td>0.00</td>\n",
       "      <td>2</td>\n",
       "      <td>0</td>\n",
       "      <td>0</td>\n",
       "      <td>93826.63</td>\n",
       "      <td>0</td>\n",
       "      <td>1</td>\n",
       "      <td>0</td>\n",
       "      <td>0</td>\n",
       "      <td>1</td>\n",
       "      <td>0</td>\n",
       "    </tr>\n",
       "    <tr>\n",
       "      <th>4</th>\n",
       "      <td>850</td>\n",
       "      <td>43</td>\n",
       "      <td>2</td>\n",
       "      <td>125510.82</td>\n",
       "      <td>1</td>\n",
       "      <td>1</td>\n",
       "      <td>1</td>\n",
       "      <td>79084.10</td>\n",
       "      <td>0</td>\n",
       "      <td>0</td>\n",
       "      <td>0</td>\n",
       "      <td>1</td>\n",
       "      <td>1</td>\n",
       "      <td>0</td>\n",
       "    </tr>\n",
       "  </tbody>\n",
       "</table>\n",
       "</div>"
      ],
      "text/plain": [
       "   CreditScore  Age  Tenure    Balance  NumOfProducts  HasCrCard  \\\n",
       "0          619   42       2       0.00              1          1   \n",
       "1          608   41       1   83807.86              1          0   \n",
       "2          502   42       8  159660.80              3          1   \n",
       "3          699   39       1       0.00              2          0   \n",
       "4          850   43       2  125510.82              1          1   \n",
       "\n",
       "   IsActiveMember  EstimatedSalary  Exited  Geography_France  \\\n",
       "0               1        101348.88       1                 1   \n",
       "1               1        112542.58       0                 0   \n",
       "2               0        113931.57       1                 1   \n",
       "3               0         93826.63       0                 1   \n",
       "4               1         79084.10       0                 0   \n",
       "\n",
       "   Geography_Germany  Geography_Spain  Gender_Female  Gender_Male  \n",
       "0                  0                0              1            0  \n",
       "1                  0                1              1            0  \n",
       "2                  0                0              1            0  \n",
       "3                  0                0              1            0  \n",
       "4                  0                1              1            0  "
      ]
     },
     "execution_count": 8,
     "metadata": {},
     "output_type": "execute_result"
    }
   ],
   "source": [
    "df_ohe = pd.get_dummies(df)\n",
    "df_ohe.head()"
   ]
  },
  {
   "cell_type": "markdown",
   "metadata": {},
   "source": [
    "<div class=\"alert alert-block alert-danger\">\n",
    "<b>❌ Замечание:</b>\n",
    "\n",
    "Чтобы не попасть в дамми-ловушку стоит удалить один из новых признаков geography и gender с помощью параметра drop_first=True\n",
    "</div>"
   ]
  },
  {
   "cell_type": "code",
   "execution_count": 9,
   "metadata": {},
   "outputs": [],
   "source": [
    "target = df_ohe['Exited']\n",
    "features = df_ohe.drop(['Exited'], axis=1)\n",
    "\n",
    "features_train, features_other, target_train, target_other = train_test_split(features, target, test_size=0.4, random_state=12345)\n",
    "features_valid, features_test, target_valid, target_test = train_test_split(features_other, target_other, test_size=0.5, random_state=12345)"
   ]
  },
  {
   "cell_type": "markdown",
   "metadata": {},
   "source": [
    "<div class=\"alert alert-block alert-success\">\n",
    "<b>✔️ Успех:</b> \n",
    "\n",
    "Данные поделены верно, пропорции выбраны адекватные 👍\n",
    "</div>"
   ]
  },
  {
   "cell_type": "markdown",
   "metadata": {},
   "source": [
    "## Исследование задачи"
   ]
  },
  {
   "cell_type": "code",
   "execution_count": 10,
   "metadata": {},
   "outputs": [
    {
     "data": {
      "text/plain": [
       "0    7963\n",
       "1    2037\n",
       "Name: Exited, dtype: int64"
      ]
     },
     "execution_count": 10,
     "metadata": {},
     "output_type": "execute_result"
    }
   ],
   "source": [
    "df_ohe['Exited'].value_counts()"
   ]
  },
  {
   "cell_type": "markdown",
   "metadata": {},
   "source": [
    "<div style=\"margin: 10px 50px 10px 0px; padding: 20px; border: blue solid 1px \">\n",
    "Классы не сбалансированны. Соотношение примерно 4:1.<br>\n",
    "    Построим модели решающего древа и случайного леса на несбилансированных данных.\n",
    "    </div>"
   ]
  },
  {
   "cell_type": "markdown",
   "metadata": {},
   "source": [
    "<div class=\"alert alert-block alert-success\">\n",
    "<b>✔️ Успех:</b>\n",
    "\n",
    "Виден явный дисбаланс классов в пользу отрицательного класса. Если мы будем всех людей прогнозировать, что они не уйдут из банка, то в 80% случаев мы будем правы.\n",
    "</div>"
   ]
  },
  {
   "cell_type": "code",
   "execution_count": 11,
   "metadata": {},
   "outputs": [
    {
     "name": "stdout",
     "output_type": "stream",
     "text": [
      "Best score: 0.5714285714285714 best depth 9\n"
     ]
    }
   ],
   "source": [
    "# построим модиль для решающего древа\n",
    "\n",
    "\"\"\"\n",
    "Finds the best params for DecisionTreeClassifier withing the limit of number of leafs\n",
    "\"\"\"\n",
    "def tree_best_score(min_lim, max_lim, is_ballanced=False):\n",
    "    best_score = 0\n",
    "    best_depth = 0\n",
    "    \n",
    "    if is_ballanced:\n",
    "        class_weight_ = 'balanced'\n",
    "    else:\n",
    "        class_weight_ = None\n",
    "    \n",
    "    for depth in range(min_lim, max_lim):\n",
    "        model = DecisionTreeClassifier(max_depth=depth, class_weight=class_weight_, random_state=12345)\n",
    "        model.fit(features_train, target_train)\n",
    "\n",
    "        predicted_valid = model.predict(features_valid)\n",
    "        f1_temp = f1_score(target_valid, predicted_valid)\n",
    "\n",
    "        if f1_temp > best_score:\n",
    "            best_score = f1_temp\n",
    "            best_depth = depth\n",
    "    return best_score, best_depth\n",
    "\n",
    "tree_score, tree_depth = tree_best_score(2, 20)\n",
    "\n",
    "print(f'Best score: {tree_score} best depth {tree_depth}')"
   ]
  },
  {
   "cell_type": "code",
   "execution_count": 12,
   "metadata": {},
   "outputs": [
    {
     "name": "stdout",
     "output_type": "stream",
     "text": [
      "0.7837430966797525\n"
     ]
    }
   ],
   "source": [
    "tree_model = DecisionTreeClassifier(max_depth=9, random_state=12345)\n",
    "tree_model.fit(features_train, target_train)\n",
    "\n",
    "probabilities_valid = tree_model.predict_proba(features_valid)\n",
    "# estimator.predict_proba(X, y)[:, 1]\n",
    "tree_auc_roc = roc_auc_score(target_valid, probabilities_valid[:, 1])\n",
    "print(tree_auc_roc)"
   ]
  },
  {
   "cell_type": "code",
   "execution_count": 13,
   "metadata": {},
   "outputs": [
    {
     "name": "stdout",
     "output_type": "stream",
     "text": [
      "Best params n_est, depth: (50, 17) at score 0.5878877400295421\n"
     ]
    }
   ],
   "source": [
    "\"\"\"\n",
    "Find the best params for RandomForest within the limits of estimators and depth\n",
    "\"\"\"\n",
    "def forest_best_score(min_depth_lim, max_depth_lim, min_est_lim, max_est_lim, est_step, is_ballanced=False):\n",
    "    best_params = None\n",
    "    best_result = 0\n",
    "    \n",
    "    if is_ballanced:\n",
    "        class_weight_ = 'balanced'\n",
    "    else:\n",
    "        class_weight_ = None\n",
    "\n",
    "    for depth in range(min_depth_lim, max_depth_lim):\n",
    "        for est in range(min_est_lim, max_est_lim, est_step): \n",
    "            \n",
    "            model = RandomForestClassifier(n_estimators=est, max_depth=depth, class_weight=class_weight_, random_state=12345)\n",
    "            model.fit(features_train, target_train)\n",
    "\n",
    "            predicted_valid = model.predict(features_valid)\n",
    "            f1_temp = f1_score(target_valid, predicted_valid)\n",
    "\n",
    "            if f1_temp > best_result:\n",
    "                best_result = f1_temp\n",
    "                best_params = est, depth\n",
    "    \n",
    "    return best_result, best_params\n",
    "\n",
    "forest_score, forest_params = forest_best_score(2, 20, 20, 100, 10)\n",
    "print(f'Best params n_est, depth: {forest_params} at score {forest_score}')       "
   ]
  },
  {
   "cell_type": "code",
   "execution_count": 14,
   "metadata": {},
   "outputs": [
    {
     "name": "stdout",
     "output_type": "stream",
     "text": [
      "0.8321298519831357\n"
     ]
    }
   ],
   "source": [
    "forest_model = RandomForestClassifier(n_estimators=50, max_depth=17, class_weight=None, random_state=12345)\n",
    "forest_model.fit(features_train, target_train)\n",
    "\n",
    "probabilities_valid = forest_model.predict_proba(features_valid)\n",
    "# estimator.predict_proba(X, y)[:, 1]\n",
    "forest_auc_roc = roc_auc_score(target_valid, probabilities_valid[:, 1])\n",
    "print(forest_auc_roc)"
   ]
  },
  {
   "cell_type": "markdown",
   "metadata": {},
   "source": [
    "<div style=\"margin: 10px 50px 10px 0px; padding: 20px; border: blue solid 1px \">\n",
    "Мы попробовали подобрать параметры без учета дисбаланса для Решающего древа и для Случайного леса. <br>\n",
    "Значение F1 меньше 0.59 <br>\n",
    "Значения auc_roc 0.7837430966797525 и 0.8321298519831357 соответственно. <br>\n",
    "    </div> "
   ]
  },
  {
   "cell_type": "markdown",
   "metadata": {},
   "source": [
    "<div class=\"alert alert-block alert-success\">\n",
    "<b>✔️ Успех:</b>\n",
    "\n",
    "Модели обучены корректно 👍\n",
    "</div>"
   ]
  },
  {
   "cell_type": "markdown",
   "metadata": {},
   "source": [
    "## Борьба с дисбалансом"
   ]
  },
  {
   "cell_type": "markdown",
   "metadata": {},
   "source": [
    "<div style=\"margin: 10px 50px 10px 0px; padding: 20px; border: blue solid 1px \">\n",
    "Поборемся с дисбалансом при помощи балансировки класса\n",
    "    </div>"
   ]
  },
  {
   "cell_type": "code",
   "execution_count": 15,
   "metadata": {},
   "outputs": [
    {
     "name": "stdout",
     "output_type": "stream",
     "text": [
      "0.5407554671968191\n"
     ]
    }
   ],
   "source": [
    "# Сбалансированная модель Решающего Дерева\n",
    "\n",
    "model_balanced = DecisionTreeClassifier(max_depth=9, class_weight='balanced', random_state=12345)\n",
    "model_balanced.fit(features_train, target_train)\n",
    "\n",
    "predicted_valid = model_balanced.predict(features_valid)\n",
    "f1_result = f1_score(target_valid, predicted_valid)\n",
    "print(f1_result)"
   ]
  },
  {
   "cell_type": "code",
   "execution_count": 16,
   "metadata": {},
   "outputs": [
    {
     "name": "stdout",
     "output_type": "stream",
     "text": [
      "0.5671641791044776\n"
     ]
    }
   ],
   "source": [
    "# Сбалансированная модель Случайного леса\n",
    "\n",
    "model_balanced1 = RandomForestClassifier(n_estimators=50, max_depth=17, class_weight='balanced', random_state=12345)\n",
    "model_balanced1.fit(features_train, target_train)\n",
    "\n",
    "predicted_valid1 = model_balanced1.predict(features_valid)\n",
    "f1_result1 = f1_score(target_valid, predicted_valid1)\n",
    "print(f1_result1)"
   ]
  },
  {
   "cell_type": "code",
   "execution_count": 17,
   "metadata": {},
   "outputs": [
    {
     "name": "stdout",
     "output_type": "stream",
     "text": [
      "0.997069903725408\n"
     ]
    }
   ],
   "source": [
    "# Проверка адекватности модели Случайного Леса\n",
    "\n",
    "model_balanced1 = RandomForestClassifier(n_estimators=50, max_depth=17, class_weight='balanced', random_state=12345)\n",
    "model_balanced1.fit(features_train, target_train)\n",
    "\n",
    "predicted_valid1 = model_balanced1.predict(features_train)\n",
    "f1_result1 = f1_score(target_train, predicted_valid1)\n",
    "print(f1_result1)"
   ]
  },
  {
   "cell_type": "code",
   "execution_count": 18,
   "metadata": {},
   "outputs": [
    {
     "name": "stdout",
     "output_type": "stream",
     "text": [
      "0.8415774956296616\n"
     ]
    }
   ],
   "source": [
    "forest_model = RandomForestClassifier(n_estimators=50, max_depth=17, class_weight='balanced', random_state=12345)\n",
    "forest_model.fit(features_train, target_train)\n",
    "\n",
    "probabilities_valid = forest_model.predict_proba(features_valid)\n",
    "# estimator.predict_proba(X, y)[:, 1]\n",
    "forest_auc_roc = roc_auc_score(target_valid, probabilities_valid[:, 1])\n",
    "print(forest_auc_roc)"
   ]
  },
  {
   "cell_type": "markdown",
   "metadata": {},
   "source": [
    "<div style=\"margin: 10px 50px 10px 0px; padding: 20px; border: blue solid 1px \">\n",
    "    Попробуем балансировать с помощью увеличения выборки\n",
    "    </div>"
   ]
  },
  {
   "cell_type": "code",
   "execution_count": 19,
   "metadata": {},
   "outputs": [],
   "source": [
    "def upsample(features, target, repeat):\n",
    "    features_zeros = features[target == 0]\n",
    "    features_ones = features[target == 1]\n",
    "    target_zeros = target[target == 0]\n",
    "    target_ones = target[target == 1]\n",
    "    \n",
    "    features_upsampled = pd.concat([features_zeros] + [features_ones] * repeat)\n",
    "    target_upsampled = pd.concat([target_zeros] + [target_ones] * repeat)\n",
    "    \n",
    "    features_upsampled, target_upsampled = shuffle(\n",
    "        features_upsampled, target_upsampled, random_state=12345)\n",
    "    \n",
    "    return features_upsampled, target_upsampled\n",
    "\n",
    "features_upsampled, target_upsampled = upsample(features_train, target_train, 4)"
   ]
  },
  {
   "cell_type": "markdown",
   "metadata": {},
   "source": [
    "<div class=\"alert alert-block alert-success\">\n",
    "<b>✔️ Успех:</b>\n",
    "\n",
    "Увеличение выборки выполнено верно - классы сбалансированы 👍 \n",
    "</div>"
   ]
  },
  {
   "cell_type": "code",
   "execution_count": 20,
   "metadata": {},
   "outputs": [
    {
     "name": "stdout",
     "output_type": "stream",
     "text": [
      "0.5347912524850894\n"
     ]
    }
   ],
   "source": [
    "# Модель Дерва с увеличенной выборкой\n",
    "\n",
    "model_ups = DecisionTreeClassifier(max_depth=9, random_state=12345)\n",
    "model_ups.fit(features_upsampled, target_upsampled)\n",
    "\n",
    "predicted_valid = model_ups.predict(features_valid)\n",
    "f1_result = f1_score(target_valid, predicted_valid)\n",
    "print(f1_result) "
   ]
  },
  {
   "cell_type": "code",
   "execution_count": 21,
   "metadata": {},
   "outputs": [
    {
     "name": "stdout",
     "output_type": "stream",
     "text": [
      "0.6033376123234916\n"
     ]
    }
   ],
   "source": [
    "# Модель Леса с увеличенной выборкой\n",
    "\n",
    "model_ups1 = RandomForestClassifier(n_estimators=50, max_depth=17, random_state=12345)\n",
    "model_ups1.fit(features_upsampled, target_upsampled)\n",
    "\n",
    "predicted_valid1 = model_ups1.predict(features_valid)\n",
    "f1_result1 = f1_score(target_valid, predicted_valid1)\n",
    "print(f1_result1)"
   ]
  },
  {
   "cell_type": "code",
   "execution_count": 22,
   "metadata": {},
   "outputs": [
    {
     "name": "stdout",
     "output_type": "stream",
     "text": [
      "0.9979140592407176\n"
     ]
    }
   ],
   "source": [
    "# Проверка адекватности Леса с увеличенной выборкой\n",
    "\n",
    "model_ups1 = RandomForestClassifier(n_estimators=50, max_depth=17, random_state=12345)\n",
    "model_ups1.fit(features_upsampled, target_upsampled)\n",
    "\n",
    "predicted_valid1 = model_ups1.predict(features_train)\n",
    "f1_result1 = f1_score(target_train, predicted_valid1)\n",
    "print(f1_result1)"
   ]
  },
  {
   "cell_type": "code",
   "execution_count": 23,
   "metadata": {},
   "outputs": [
    {
     "name": "stdout",
     "output_type": "stream",
     "text": [
      "0.8291560558677465\n"
     ]
    }
   ],
   "source": [
    "forest_model = RandomForestClassifier(n_estimators=50, max_depth=17, random_state=12345)\n",
    "forest_model.fit(features_upsampled, target_upsampled)\n",
    "\n",
    "probabilities_valid = forest_model.predict_proba(features_valid)\n",
    "# estimator.predict_proba(X, y)[:, 1]\n",
    "forest_auc_roc = roc_auc_score(target_valid, probabilities_valid[:, 1])\n",
    "print(forest_auc_roc)"
   ]
  },
  {
   "cell_type": "markdown",
   "metadata": {},
   "source": [
    "<div style=\"margin: 10px 50px 10px 0px; padding: 20px; border: blue solid 1px \">\n",
    "После балансировки выглядит так что модель явно переобучена. <br>\n",
    "    Далее я буду исследовать только модель случайного леса т.к. она дает более высокие показатели.<br>\n",
    "    Подберем новые параметры для случайного леса с учетом балансировки\n",
    "    </div>"
   ]
  },
  {
   "cell_type": "markdown",
   "metadata": {},
   "source": [
    "<div class=\"alert alert-block alert-danger\">\n",
    "<b>❌ Замечание:</b>\n",
    "\n",
    "Обычно под адекватностью модели имеют в виду сравнение его метрик с метрикой константной модели (например, которая предсказывает только один класс)\n",
    "\n",
    "Если обучиться на увеличенной тренировочной выборке, затем давать предсказания на тренировочной выборке, то метрики, конечно, будут высокими) Тогда утверждать, что модель переобучилась не корректно. На валидационной выборке метрика адекватная - 0.6033376123234916\n",
    "</div>"
   ]
  },
  {
   "cell_type": "code",
   "execution_count": 24,
   "metadata": {},
   "outputs": [
    {
     "name": "stdout",
     "output_type": "stream",
     "text": [
      "Best params n_est, depth: (70, 9) at score 0.6306306306306306\n"
     ]
    }
   ],
   "source": [
    "forest_score, forest_params = forest_best_score(2, 20, 20, 100, 10, is_ballanced=True)\n",
    "print(f'Best params n_est, depth: {forest_params} at score {forest_score}')  "
   ]
  },
  {
   "cell_type": "code",
   "execution_count": 25,
   "metadata": {},
   "outputs": [
    {
     "name": "stdout",
     "output_type": "stream",
     "text": [
      "0.6306306306306306\n"
     ]
    }
   ],
   "source": [
    "# Сбалансированная модель Леса с уточненными параметрами\n",
    "\n",
    "model_balanced1 = RandomForestClassifier(n_estimators=70, max_depth=9, class_weight='balanced', random_state=12345)\n",
    "model_balanced1.fit(features_train, target_train)\n",
    "\n",
    "# n_estimators=100, max_depth=9\n",
    "\n",
    "predicted_valid1 = model_balanced1.predict(features_valid)\n",
    "f1_result1 = f1_score(target_valid, predicted_valid1)\n",
    "print(f1_result1)"
   ]
  },
  {
   "cell_type": "code",
   "execution_count": 26,
   "metadata": {},
   "outputs": [
    {
     "name": "stdout",
     "output_type": "stream",
     "text": [
      "0.7478960848884011\n"
     ]
    }
   ],
   "source": [
    "# Проверка адекватности Леса с уточненными параметрами\n",
    "\n",
    "model_ups1 = RandomForestClassifier(n_estimators=70, max_depth=9, random_state=12345)\n",
    "model_ups1.fit(features_upsampled, target_upsampled)\n",
    "\n",
    "predicted_valid1 = model_ups1.predict(features_train)\n",
    "f1_result1 = f1_score(target_train, predicted_valid1)\n",
    "print(f1_result1)"
   ]
  },
  {
   "cell_type": "code",
   "execution_count": 27,
   "metadata": {},
   "outputs": [
    {
     "name": "stdout",
     "output_type": "stream",
     "text": [
      "0.8512451684319408\n"
     ]
    }
   ],
   "source": [
    "forest_model = RandomForestClassifier(n_estimators=70, max_depth=9, class_weight='balanced', random_state=12345)\n",
    "forest_model.fit(features_train, target_train)\n",
    "\n",
    "probabilities_valid = forest_model.predict_proba(features_valid)\n",
    "# estimator.predict_proba(X, y)[:, 1]\n",
    "forest_auc_roc = roc_auc_score(target_valid, probabilities_valid[:, 1])\n",
    "print(forest_auc_roc)"
   ]
  },
  {
   "cell_type": "code",
   "execution_count": 28,
   "metadata": {},
   "outputs": [
    {
     "name": "stdout",
     "output_type": "stream",
     "text": [
      "0.6125\n"
     ]
    }
   ],
   "source": [
    "# Модель Леса с уточненными параметрами с увеличенной выборкой\n",
    "\n",
    "model_ups1 = RandomForestClassifier(n_estimators=70, max_depth=9, random_state=12345)\n",
    "model_ups1.fit(features_upsampled, target_upsampled)\n",
    "\n",
    "predicted_valid1 = model_ups1.predict(features_valid)\n",
    "f1_result1 = f1_score(target_valid, predicted_valid1)\n",
    "print(f1_result1)"
   ]
  },
  {
   "cell_type": "code",
   "execution_count": 29,
   "metadata": {},
   "outputs": [
    {
     "name": "stdout",
     "output_type": "stream",
     "text": [
      "0.8709917971662938\n"
     ]
    }
   ],
   "source": [
    "# Проверка адекватности Леса с уточненными параметрами с увеличенной выборкой\n",
    "\n",
    "model_ups1 = RandomForestClassifier(n_estimators=70, max_depth=9, random_state=12345)\n",
    "model_ups1.fit(features_upsampled, target_upsampled)\n",
    "\n",
    "predicted_valid1 = model_ups1.predict(features_upsampled)\n",
    "f1_result1 = f1_score(target_upsampled, predicted_valid1)\n",
    "print(f1_result1)"
   ]
  },
  {
   "cell_type": "code",
   "execution_count": 30,
   "metadata": {},
   "outputs": [
    {
     "name": "stdout",
     "output_type": "stream",
     "text": [
      "0.8495771810862635\n"
     ]
    }
   ],
   "source": [
    "forest_model = RandomForestClassifier(n_estimators=70, max_depth=9, random_state=12345)\n",
    "forest_model.fit(features_upsampled, target_upsampled)\n",
    "\n",
    "probabilities_valid = forest_model.predict_proba(features_valid)\n",
    "# estimator.predict_proba(X, y)[:, 1]\n",
    "forest_auc_roc = roc_auc_score(target_valid, probabilities_valid[:, 1])\n",
    "print(forest_auc_roc)"
   ]
  },
  {
   "cell_type": "markdown",
   "metadata": {},
   "source": [
    "<div style=\"margin: 10px 50px 10px 0px; padding: 20px; border: blue solid 1px \">\n",
    " При n_estimators=70, max_depth=9\n",
    "    модель выглядит более адекватной: 0.6306306306306306. Наилучшие показатели для модели со сбалансированными классами. Приступим к ее тестированию.\n",
    "    </div>"
   ]
  },
  {
   "cell_type": "markdown",
   "metadata": {},
   "source": [
    "<div class=\"alert alert-block alert-warning\">\n",
    "<b>⚠️ Совет:</b>\n",
    "\n",
    "В обучение можно добавить модель Логистической регрессии, чтобы сравнить линейную модель с моделями, основанными на деревьях решений\n",
    "</div>"
   ]
  },
  {
   "cell_type": "markdown",
   "metadata": {},
   "source": [
    "## Тестирование модели"
   ]
  },
  {
   "cell_type": "code",
   "execution_count": 31,
   "metadata": {},
   "outputs": [
    {
     "name": "stdout",
     "output_type": "stream",
     "text": [
      "0.6077097505668935\n"
     ]
    }
   ],
   "source": [
    "model_test = RandomForestClassifier(n_estimators=70, max_depth=9, class_weight='balanced', random_state=12345)\n",
    "model_test.fit(features_train, target_train)\n",
    "\n",
    "predicted_test = model_test.predict(features_test)\n",
    "f1_result = f1_score(target_test, predicted_test)\n",
    "print(f1_result)"
   ]
  },
  {
   "cell_type": "code",
   "execution_count": 32,
   "metadata": {},
   "outputs": [
    {
     "name": "stdout",
     "output_type": "stream",
     "text": [
      "0.8553047576644768\n"
     ]
    }
   ],
   "source": [
    "forest_model = RandomForestClassifier(n_estimators=70, max_depth=9, class_weight='balanced', random_state=12345)\n",
    "forest_model.fit(features_train, target_train)\n",
    "\n",
    "probabilities_test = forest_model.predict_proba(features_test)\n",
    "# estimator.predict_proba(X, y)[:, 1]\n",
    "forest_auc_roc = roc_auc_score(target_test, probabilities_test[:, 1])\n",
    "print(forest_auc_roc)"
   ]
  },
  {
   "cell_type": "markdown",
   "metadata": {},
   "source": [
    "<div class=\"alert alert-block alert-success\">\n",
    "<b>✔️ Успех:</b>\n",
    "\n",
    "Отличный результат 👍 \n",
    "</div>"
   ]
  },
  {
   "cell_type": "markdown",
   "metadata": {},
   "source": [
    "<div class=\"alert alert-block alert-warning\">\n",
    "<b>⚠️ Совет:</b>\n",
    "\n",
    "Здесь можно визуализировать ROC-кривую лучшей модели.\n",
    "</div>"
   ]
  },
  {
   "cell_type": "markdown",
   "metadata": {},
   "source": [
    "<div style=\"margin: 10px 50px 10px 0px; padding: 20px; border: blue solid 3px \">\n",
    "<b> F1 метрика для случайного леса 0.6077097505668935 - что соответствует условиям. Так же значение auc_roc не значительно отличается от значения для валидационной выборки</b><br> <br> \n",
    "    <i>Мы получили модель, которая соответствует заявленным требованиям. <br> \n",
    "    Для этого мы обработали данные и заменили пропуски на медианные значения. <br> \n",
    "    Убрали колонки которые не влияют на модель. <br> \n",
    "    Закодировали категории чтобы значения в столбцах были числовыми. <br> \n",
    "    Разделили данные на обучающую валидационную и тестовую выборку. <br> \n",
    "    Испытали модель Дерева решений и Случайного леса.<br> \n",
    "    Создали модель и обучили ее на тренировочной выборки и на основе валидационной выборки подобрали лучшие параметры модели.<br> \n",
    "    Проверили дисбаланс и увидели что соотношение примерно 4:1<br> \n",
    "    Сбалансировали данные при момощи class_weight и увеличения выборки.<br> \n",
    "    Протестировали сбалансированные модели на выбранных параметрах. <br> \n",
    "    Выявили что модель переобучена. Подобрали новые параметры.<br> \n",
    "    Результат проверки модели на тестовой выборке показал что значение метрики f1 = 0.60 - что соответствует заявленным <br> требованиям. А метрика auc_roc 0.85 не значительно отличается от значения для валидационной выборки.</i><br> \n",
    "    <br> \n",
    "    </div>"
   ]
  },
  {
   "cell_type": "markdown",
   "metadata": {},
   "source": [
    "<div class=\"alert alert-block alert-success\">\n",
    "<b>✔️ Успех:</b>\n",
    "\n",
    "Вывод соответствует исследованию 👍\n",
    "</div>"
   ]
  },
  {
   "cell_type": "markdown",
   "metadata": {},
   "source": [
    "# <font color='orange'>Общее впечатление</font>\n",
    "* Этот проект выполнен очень хорошо\n",
    "* Видно, что приложено много усилий\n",
    "* Молодец, что структурируешь ноутбук, приятно проверять такие работы\n",
    "* У тебя чистый и лаконичный код\n",
    "* Мне было интересно читать твои промежуточные выводы\n",
    "* Твой уровень подачи материала находится на высоком уровне\n",
    "* Исправь, пожалуйста, мои замечания. Затем отправляй на повторную проверку\n",
    "* Жду новую версию проекта 👋"
   ]
  },
  {
   "cell_type": "markdown",
   "metadata": {},
   "source": [
    "# <font color='orange'>Рекомендации 🔥</font>\n",
    "* Анализ данных на python и pandas https://www.youtube.com/watch?v=dd3RcafdOQk&t=82s\n",
    "* Курс \"Введение в машинное обучение\" https://stepik.org/course/4852\n",
    "* Разумные способы кодирования категориальных данных для машинного обучения https://machinelearningmastery.ru/smarter-ways-to-encode-categorical-data-for-machine-learning-part-1-of-3-6dca2f71b159/\n",
    "* Статья про \"непонятную\" метрику ROC-AUC https://dyakonov.org/2017/07/28/auc-roc-площадь-под-кривой-ошибок/\n",
    "* Хочешь подтянуть математику для DS?) https://academy.stepik.org/math-for-data-science\n",
    "* Результаты обучения моделей можно визуализировать 😎 https://www.datatechnotes.com/2019/08/elasticnet-regression-example-in-python.html\n",
    "* В нашем деле нужно быть всегда в курсе всех новинок, новостей и тд, вот тут публикуют новости в области DS: https://www.infoq.com/data-analysis/news/\n",
    "* Всем аналитикам данных рекомендую книгу Даниела Канемана \"Думай медленно, решай быстро\""
   ]
  }
 ],
 "metadata": {
  "ExecuteTimeLog": [
   {
    "duration": 1165,
    "start_time": "2022-08-18T08:55:39.576Z"
   },
   {
    "duration": 17,
    "start_time": "2022-08-18T08:58:32.832Z"
   },
   {
    "duration": 21,
    "start_time": "2022-08-18T09:18:25.803Z"
   },
   {
    "duration": 13,
    "start_time": "2022-08-18T09:18:38.286Z"
   },
   {
    "duration": 9,
    "start_time": "2022-08-18T09:21:33.324Z"
   },
   {
    "duration": 8,
    "start_time": "2022-08-18T09:22:28.324Z"
   },
   {
    "duration": 7,
    "start_time": "2022-08-18T09:23:49.749Z"
   },
   {
    "duration": 15,
    "start_time": "2022-08-18T09:38:13.811Z"
   },
   {
    "duration": 19,
    "start_time": "2022-08-18T09:42:59.662Z"
   },
   {
    "duration": 103,
    "start_time": "2022-08-18T09:49:47.831Z"
   },
   {
    "duration": 42,
    "start_time": "2022-08-18T09:50:01.792Z"
   },
   {
    "duration": 9,
    "start_time": "2022-08-18T09:50:06.257Z"
   },
   {
    "duration": 1327,
    "start_time": "2022-08-22T07:32:16.782Z"
   },
   {
    "duration": 22,
    "start_time": "2022-08-22T07:32:18.111Z"
   },
   {
    "duration": 13,
    "start_time": "2022-08-22T07:32:18.135Z"
   },
   {
    "duration": 14,
    "start_time": "2022-08-22T07:32:18.150Z"
   },
   {
    "duration": 8,
    "start_time": "2022-08-22T07:32:18.166Z"
   },
   {
    "duration": 14,
    "start_time": "2022-08-22T07:32:18.176Z"
   },
   {
    "duration": 18,
    "start_time": "2022-08-22T07:32:18.192Z"
   },
   {
    "duration": 9,
    "start_time": "2022-08-22T07:32:18.212Z"
   },
   {
    "duration": 5,
    "start_time": "2022-08-22T07:32:18.222Z"
   },
   {
    "duration": 42,
    "start_time": "2022-08-22T07:35:44.628Z"
   },
   {
    "duration": 149,
    "start_time": "2022-08-22T07:42:26.544Z"
   },
   {
    "duration": 42,
    "start_time": "2022-08-22T07:43:02.531Z"
   },
   {
    "duration": 13,
    "start_time": "2022-08-22T07:43:02.575Z"
   },
   {
    "duration": 22,
    "start_time": "2022-08-22T07:43:02.590Z"
   },
   {
    "duration": 19,
    "start_time": "2022-08-22T07:43:02.615Z"
   },
   {
    "duration": 14,
    "start_time": "2022-08-22T07:43:02.636Z"
   },
   {
    "duration": 20,
    "start_time": "2022-08-22T07:43:02.652Z"
   },
   {
    "duration": 18,
    "start_time": "2022-08-22T07:43:02.674Z"
   },
   {
    "duration": 14,
    "start_time": "2022-08-22T07:43:02.694Z"
   },
   {
    "duration": 6,
    "start_time": "2022-08-22T07:43:02.710Z"
   },
   {
    "duration": 21,
    "start_time": "2022-08-22T07:43:02.718Z"
   },
   {
    "duration": 41,
    "start_time": "2022-08-22T07:44:15.431Z"
   },
   {
    "duration": 13,
    "start_time": "2022-08-22T07:44:15.475Z"
   },
   {
    "duration": 16,
    "start_time": "2022-08-22T07:44:15.491Z"
   },
   {
    "duration": 19,
    "start_time": "2022-08-22T07:44:15.510Z"
   },
   {
    "duration": 9,
    "start_time": "2022-08-22T07:44:15.531Z"
   },
   {
    "duration": 40,
    "start_time": "2022-08-22T07:44:15.541Z"
   },
   {
    "duration": 19,
    "start_time": "2022-08-22T07:44:15.583Z"
   },
   {
    "duration": 9,
    "start_time": "2022-08-22T07:44:15.604Z"
   },
   {
    "duration": 7,
    "start_time": "2022-08-22T07:44:15.614Z"
   },
   {
    "duration": 515,
    "start_time": "2022-08-22T07:44:15.623Z"
   },
   {
    "duration": 480,
    "start_time": "2022-08-22T07:46:08.419Z"
   },
   {
    "duration": 798,
    "start_time": "2022-08-22T07:46:25.341Z"
   },
   {
    "duration": 502,
    "start_time": "2022-08-22T07:46:55.010Z"
   },
   {
    "duration": 10,
    "start_time": "2022-08-22T12:20:57.595Z"
   },
   {
    "duration": 10,
    "start_time": "2022-08-22T12:21:31.678Z"
   },
   {
    "duration": 44,
    "start_time": "2022-08-22T12:21:45.354Z"
   },
   {
    "duration": 13,
    "start_time": "2022-08-22T12:21:45.400Z"
   },
   {
    "duration": 15,
    "start_time": "2022-08-22T12:21:45.415Z"
   },
   {
    "duration": 15,
    "start_time": "2022-08-22T12:21:45.432Z"
   },
   {
    "duration": 20,
    "start_time": "2022-08-22T12:21:45.448Z"
   },
   {
    "duration": 13,
    "start_time": "2022-08-22T12:21:45.470Z"
   },
   {
    "duration": 24,
    "start_time": "2022-08-22T12:21:45.485Z"
   },
   {
    "duration": 11,
    "start_time": "2022-08-22T12:21:45.511Z"
   },
   {
    "duration": 13,
    "start_time": "2022-08-22T12:21:45.524Z"
   },
   {
    "duration": 467,
    "start_time": "2022-08-22T12:21:45.567Z"
   },
   {
    "duration": 2446,
    "start_time": "2022-08-22T12:21:46.035Z"
   },
   {
    "duration": 1402,
    "start_time": "2022-08-22T12:22:41.548Z"
   },
   {
    "duration": 2099,
    "start_time": "2022-08-22T12:23:16.343Z"
   },
   {
    "duration": 3331,
    "start_time": "2022-08-22T12:23:31.145Z"
   },
   {
    "duration": 12,
    "start_time": "2022-08-22T12:36:31.450Z"
   },
   {
    "duration": 19,
    "start_time": "2022-08-22T12:38:06.025Z"
   },
   {
    "duration": 27,
    "start_time": "2022-08-22T12:42:36.218Z"
   },
   {
    "duration": 21166,
    "start_time": "2022-08-22T12:42:50.059Z"
   },
   {
    "duration": 36427,
    "start_time": "2022-08-22T12:43:29.197Z"
   },
   {
    "duration": 193932,
    "start_time": "2022-08-22T12:44:55.582Z"
   },
   {
    "duration": 22646,
    "start_time": "2022-08-22T12:49:20.084Z"
   },
   {
    "duration": 153308,
    "start_time": "2022-08-22T12:49:53.745Z"
   },
   {
    "duration": 44,
    "start_time": "2022-08-23T12:21:58.903Z"
   },
   {
    "duration": 1165,
    "start_time": "2022-08-23T12:22:10.939Z"
   },
   {
    "duration": 21,
    "start_time": "2022-08-23T12:22:12.106Z"
   },
   {
    "duration": 38,
    "start_time": "2022-08-23T12:22:12.129Z"
   },
   {
    "duration": 28,
    "start_time": "2022-08-23T12:22:12.169Z"
   },
   {
    "duration": 26,
    "start_time": "2022-08-23T12:22:12.199Z"
   },
   {
    "duration": 30,
    "start_time": "2022-08-23T12:22:12.226Z"
   },
   {
    "duration": 35,
    "start_time": "2022-08-23T12:22:12.258Z"
   },
   {
    "duration": 27,
    "start_time": "2022-08-23T12:22:12.295Z"
   },
   {
    "duration": 12,
    "start_time": "2022-08-23T12:22:12.324Z"
   },
   {
    "duration": 441,
    "start_time": "2022-08-23T12:22:12.339Z"
   },
   {
    "duration": 10298,
    "start_time": "2022-08-23T12:22:12.782Z"
   },
   {
    "duration": 51,
    "start_time": "2022-08-23T12:22:23.082Z"
   },
   {
    "duration": 229,
    "start_time": "2022-08-23T12:25:34.944Z"
   },
   {
    "duration": 28,
    "start_time": "2022-08-23T12:26:37.773Z"
   },
   {
    "duration": 230,
    "start_time": "2022-08-23T12:26:41.830Z"
   },
   {
    "duration": 39,
    "start_time": "2022-08-23T12:27:26.933Z"
   },
   {
    "duration": 13,
    "start_time": "2022-08-23T12:27:26.974Z"
   },
   {
    "duration": 20,
    "start_time": "2022-08-23T12:27:26.989Z"
   },
   {
    "duration": 29,
    "start_time": "2022-08-23T12:27:27.011Z"
   },
   {
    "duration": 9,
    "start_time": "2022-08-23T12:27:27.042Z"
   },
   {
    "duration": 16,
    "start_time": "2022-08-23T12:27:27.052Z"
   },
   {
    "duration": 19,
    "start_time": "2022-08-23T12:27:27.070Z"
   },
   {
    "duration": 14,
    "start_time": "2022-08-23T12:27:27.090Z"
   },
   {
    "duration": 4,
    "start_time": "2022-08-23T12:27:27.106Z"
   },
   {
    "duration": 420,
    "start_time": "2022-08-23T12:27:27.112Z"
   },
   {
    "duration": 10175,
    "start_time": "2022-08-23T12:27:27.534Z"
   },
   {
    "duration": 27,
    "start_time": "2022-08-23T12:27:37.711Z"
   },
   {
    "duration": 227,
    "start_time": "2022-08-23T12:27:37.740Z"
   },
   {
    "duration": 234,
    "start_time": "2022-08-23T12:28:44.382Z"
   },
   {
    "duration": 10257,
    "start_time": "2022-08-23T12:30:57.453Z"
   },
   {
    "duration": 10238,
    "start_time": "2022-08-23T12:31:14.327Z"
   },
   {
    "duration": 408,
    "start_time": "2022-08-23T12:32:14.485Z"
   },
   {
    "duration": 22,
    "start_time": "2022-08-23T12:33:26.005Z"
   },
   {
    "duration": 9860,
    "start_time": "2022-08-23T12:36:07.889Z"
   },
   {
    "duration": 140,
    "start_time": "2022-08-23T12:37:52.403Z"
   },
   {
    "duration": 41,
    "start_time": "2022-08-23T12:38:21.411Z"
   },
   {
    "duration": 16,
    "start_time": "2022-08-23T12:38:21.455Z"
   },
   {
    "duration": 22,
    "start_time": "2022-08-23T12:38:21.473Z"
   },
   {
    "duration": 34,
    "start_time": "2022-08-23T12:38:21.498Z"
   },
   {
    "duration": 14,
    "start_time": "2022-08-23T12:38:21.534Z"
   },
   {
    "duration": 16,
    "start_time": "2022-08-23T12:38:21.550Z"
   },
   {
    "duration": 27,
    "start_time": "2022-08-23T12:38:21.567Z"
   },
   {
    "duration": 10,
    "start_time": "2022-08-23T12:38:21.596Z"
   },
   {
    "duration": 16,
    "start_time": "2022-08-23T12:38:21.607Z"
   },
   {
    "duration": 424,
    "start_time": "2022-08-23T12:38:21.626Z"
   },
   {
    "duration": 9788,
    "start_time": "2022-08-23T12:38:22.052Z"
   },
   {
    "duration": 21,
    "start_time": "2022-08-23T12:38:31.842Z"
   },
   {
    "duration": 141,
    "start_time": "2022-08-23T12:38:31.864Z"
   },
   {
    "duration": 40,
    "start_time": "2022-08-23T12:42:23.240Z"
   },
   {
    "duration": 11,
    "start_time": "2022-08-23T12:42:23.282Z"
   },
   {
    "duration": 21,
    "start_time": "2022-08-23T12:42:23.295Z"
   },
   {
    "duration": 20,
    "start_time": "2022-08-23T12:42:23.318Z"
   },
   {
    "duration": 6,
    "start_time": "2022-08-23T12:42:23.340Z"
   },
   {
    "duration": 12,
    "start_time": "2022-08-23T12:42:23.348Z"
   },
   {
    "duration": 31,
    "start_time": "2022-08-23T12:42:23.361Z"
   },
   {
    "duration": 11,
    "start_time": "2022-08-23T12:42:23.394Z"
   },
   {
    "duration": 12,
    "start_time": "2022-08-23T12:42:23.406Z"
   },
   {
    "duration": 417,
    "start_time": "2022-08-23T12:42:23.421Z"
   },
   {
    "duration": 9889,
    "start_time": "2022-08-23T12:42:23.840Z"
   },
   {
    "duration": 24,
    "start_time": "2022-08-23T12:43:09.810Z"
   },
   {
    "duration": 135,
    "start_time": "2022-08-23T12:43:56.820Z"
   },
   {
    "duration": 70,
    "start_time": "2022-08-23T13:10:10.800Z"
   },
   {
    "duration": 18,
    "start_time": "2022-08-23T13:10:27.471Z"
   },
   {
    "duration": 38,
    "start_time": "2022-08-23T13:10:43.783Z"
   },
   {
    "duration": 12,
    "start_time": "2022-08-23T13:10:43.823Z"
   },
   {
    "duration": 16,
    "start_time": "2022-08-23T13:10:43.836Z"
   },
   {
    "duration": 18,
    "start_time": "2022-08-23T13:10:43.854Z"
   },
   {
    "duration": 9,
    "start_time": "2022-08-23T13:10:43.873Z"
   },
   {
    "duration": 30,
    "start_time": "2022-08-23T13:10:43.883Z"
   },
   {
    "duration": 19,
    "start_time": "2022-08-23T13:10:43.915Z"
   },
   {
    "duration": 11,
    "start_time": "2022-08-23T13:10:43.936Z"
   },
   {
    "duration": 5,
    "start_time": "2022-08-23T13:10:43.948Z"
   },
   {
    "duration": 429,
    "start_time": "2022-08-23T13:10:43.955Z"
   },
   {
    "duration": 9995,
    "start_time": "2022-08-23T13:10:44.386Z"
   },
   {
    "duration": 31,
    "start_time": "2022-08-23T13:10:54.383Z"
   },
   {
    "duration": 147,
    "start_time": "2022-08-23T13:10:54.417Z"
   },
   {
    "duration": 11,
    "start_time": "2022-08-23T13:10:54.565Z"
   },
   {
    "duration": 13657,
    "start_time": "2022-08-23T13:12:34.682Z"
   },
   {
    "duration": 25,
    "start_time": "2022-08-23T13:13:38.265Z"
   },
   {
    "duration": 24,
    "start_time": "2022-08-23T13:14:26.701Z"
   },
   {
    "duration": 170,
    "start_time": "2022-08-23T13:15:23.211Z"
   },
   {
    "duration": 190,
    "start_time": "2022-08-23T13:16:45.558Z"
   },
   {
    "duration": 20,
    "start_time": "2022-08-23T13:19:04.183Z"
   },
   {
    "duration": 135,
    "start_time": "2022-08-23T13:19:51.830Z"
   },
   {
    "duration": 143,
    "start_time": "2022-08-23T13:20:26.836Z"
   },
   {
    "duration": 149,
    "start_time": "2022-08-23T13:21:48.822Z"
   },
   {
    "duration": 50700,
    "start_time": "2022-08-23T13:22:58.014Z"
   },
   {
    "duration": 22029,
    "start_time": "2022-08-23T13:24:06.857Z"
   },
   {
    "duration": 42253,
    "start_time": "2022-08-23T13:24:49.391Z"
   },
   {
    "duration": 480,
    "start_time": "2022-08-23T13:26:25.893Z"
   },
   {
    "duration": 465,
    "start_time": "2022-08-23T13:27:28.120Z"
   },
   {
    "duration": 449,
    "start_time": "2022-08-23T13:27:45.220Z"
   },
   {
    "duration": 40,
    "start_time": "2022-08-23T13:28:10.114Z"
   },
   {
    "duration": 13,
    "start_time": "2022-08-23T13:28:10.156Z"
   },
   {
    "duration": 16,
    "start_time": "2022-08-23T13:28:10.170Z"
   },
   {
    "duration": 17,
    "start_time": "2022-08-23T13:28:10.189Z"
   },
   {
    "duration": 10,
    "start_time": "2022-08-23T13:28:10.207Z"
   },
   {
    "duration": 13,
    "start_time": "2022-08-23T13:28:10.220Z"
   },
   {
    "duration": 24,
    "start_time": "2022-08-23T13:28:10.235Z"
   },
   {
    "duration": 18,
    "start_time": "2022-08-23T13:28:10.261Z"
   },
   {
    "duration": 22,
    "start_time": "2022-08-23T13:28:10.300Z"
   },
   {
    "duration": 475,
    "start_time": "2022-08-23T13:28:10.325Z"
   },
   {
    "duration": 44288,
    "start_time": "2022-08-23T13:28:10.802Z"
   },
   {
    "duration": 28,
    "start_time": "2022-08-23T13:28:55.092Z"
   },
   {
    "duration": 491,
    "start_time": "2022-08-23T13:28:55.122Z"
   },
   {
    "duration": 11,
    "start_time": "2022-08-23T13:28:55.615Z"
   },
   {
    "duration": 24,
    "start_time": "2022-08-23T13:28:55.628Z"
   },
   {
    "duration": 207,
    "start_time": "2022-08-23T13:28:55.654Z"
   },
   {
    "duration": 509,
    "start_time": "2022-08-23T13:28:55.863Z"
   },
   {
    "duration": 1407,
    "start_time": "2022-08-24T07:39:14.399Z"
   },
   {
    "duration": 28,
    "start_time": "2022-08-24T07:39:15.808Z"
   },
   {
    "duration": 15,
    "start_time": "2022-08-24T07:39:15.838Z"
   },
   {
    "duration": 20,
    "start_time": "2022-08-24T07:39:15.856Z"
   },
   {
    "duration": 9,
    "start_time": "2022-08-24T07:39:15.892Z"
   },
   {
    "duration": 14,
    "start_time": "2022-08-24T07:39:15.903Z"
   },
   {
    "duration": 20,
    "start_time": "2022-08-24T07:39:15.919Z"
   },
   {
    "duration": 12,
    "start_time": "2022-08-24T07:39:15.941Z"
   },
   {
    "duration": 43,
    "start_time": "2022-08-24T07:39:15.956Z"
   },
   {
    "duration": 534,
    "start_time": "2022-08-24T07:39:16.003Z"
   },
   {
    "duration": 53704,
    "start_time": "2022-08-24T07:39:16.539Z"
   },
   {
    "duration": 33,
    "start_time": "2022-08-24T07:40:10.246Z"
   },
   {
    "duration": 632,
    "start_time": "2022-08-24T07:40:10.293Z"
   },
   {
    "duration": 17,
    "start_time": "2022-08-24T07:40:10.927Z"
   },
   {
    "duration": 52,
    "start_time": "2022-08-24T07:40:10.946Z"
   },
   {
    "duration": 288,
    "start_time": "2022-08-24T07:40:11.000Z"
   },
   {
    "duration": 615,
    "start_time": "2022-08-24T07:40:11.290Z"
   },
   {
    "duration": 45,
    "start_time": "2022-08-24T07:40:58.641Z"
   },
   {
    "duration": 602,
    "start_time": "2022-08-24T07:43:00.339Z"
   },
   {
    "duration": 203,
    "start_time": "2022-08-24T07:43:34.221Z"
   },
   {
    "duration": 187,
    "start_time": "2022-08-24T07:43:46.527Z"
   },
   {
    "duration": 54,
    "start_time": "2022-08-24T07:44:00.640Z"
   },
   {
    "duration": 22,
    "start_time": "2022-08-24T07:44:00.696Z"
   },
   {
    "duration": 20,
    "start_time": "2022-08-24T07:44:00.721Z"
   },
   {
    "duration": 49,
    "start_time": "2022-08-24T07:44:00.744Z"
   },
   {
    "duration": 12,
    "start_time": "2022-08-24T07:44:00.795Z"
   },
   {
    "duration": 21,
    "start_time": "2022-08-24T07:44:00.809Z"
   },
   {
    "duration": 61,
    "start_time": "2022-08-24T07:44:00.832Z"
   },
   {
    "duration": 12,
    "start_time": "2022-08-24T07:44:00.896Z"
   },
   {
    "duration": 15,
    "start_time": "2022-08-24T07:44:00.910Z"
   },
   {
    "duration": 594,
    "start_time": "2022-08-24T07:44:00.928Z"
   },
   {
    "duration": 60146,
    "start_time": "2022-08-24T07:44:01.525Z"
   },
   {
    "duration": 49,
    "start_time": "2022-08-24T07:45:01.674Z"
   },
   {
    "duration": 235,
    "start_time": "2022-08-24T07:45:01.725Z"
   },
   {
    "duration": 19,
    "start_time": "2022-08-24T07:45:01.963Z"
   },
   {
    "duration": 98,
    "start_time": "2022-08-24T07:45:01.984Z"
   },
   {
    "duration": 336,
    "start_time": "2022-08-24T07:45:02.085Z"
   },
   {
    "duration": 622,
    "start_time": "2022-08-24T07:45:02.423Z"
   },
   {
    "duration": 241,
    "start_time": "2022-08-24T07:47:47.054Z"
   },
   {
    "duration": 251,
    "start_time": "2022-08-24T07:47:51.476Z"
   },
   {
    "duration": 64,
    "start_time": "2022-08-24T07:48:55.139Z"
   },
   {
    "duration": 1332,
    "start_time": "2022-08-24T07:49:02.395Z"
   },
   {
    "duration": 36,
    "start_time": "2022-08-24T07:49:03.730Z"
   },
   {
    "duration": 27,
    "start_time": "2022-08-24T07:49:03.768Z"
   },
   {
    "duration": 24,
    "start_time": "2022-08-24T07:49:03.798Z"
   },
   {
    "duration": 12,
    "start_time": "2022-08-24T07:49:03.824Z"
   },
   {
    "duration": 23,
    "start_time": "2022-08-24T07:49:03.839Z"
   },
   {
    "duration": 24,
    "start_time": "2022-08-24T07:49:03.892Z"
   },
   {
    "duration": 13,
    "start_time": "2022-08-24T07:49:03.918Z"
   },
   {
    "duration": 8,
    "start_time": "2022-08-24T07:49:03.934Z"
   },
   {
    "duration": 764,
    "start_time": "2022-08-24T07:49:03.946Z"
   },
   {
    "duration": 60050,
    "start_time": "2022-08-24T07:49:04.712Z"
   },
   {
    "duration": 53,
    "start_time": "2022-08-24T07:50:04.765Z"
   },
   {
    "duration": 206,
    "start_time": "2022-08-24T07:50:04.821Z"
   },
   {
    "duration": 17,
    "start_time": "2022-08-24T07:50:05.030Z"
   },
   {
    "duration": 79,
    "start_time": "2022-08-24T07:50:05.050Z"
   },
   {
    "duration": 332,
    "start_time": "2022-08-24T07:50:05.131Z"
   },
   {
    "duration": 692,
    "start_time": "2022-08-24T07:50:05.466Z"
   },
   {
    "duration": 442,
    "start_time": "2022-08-24T07:50:42.301Z"
   },
   {
    "duration": 504,
    "start_time": "2022-08-24T07:51:07.993Z"
   },
   {
    "duration": 367,
    "start_time": "2022-08-24T07:51:30.182Z"
   },
   {
    "duration": 381,
    "start_time": "2022-08-24T07:52:48.100Z"
   },
   {
    "duration": 521,
    "start_time": "2022-08-24T07:54:07.574Z"
   },
   {
    "duration": 551,
    "start_time": "2022-08-24T07:56:32.378Z"
   },
   {
    "duration": 813,
    "start_time": "2022-08-24T07:57:09.157Z"
   },
   {
    "duration": 582,
    "start_time": "2022-08-24T07:58:13.249Z"
   },
   {
    "duration": 746,
    "start_time": "2022-08-24T08:04:14.516Z"
   },
   {
    "duration": 839,
    "start_time": "2022-08-24T08:04:17.324Z"
   },
   {
    "duration": 80,
    "start_time": "2022-08-24T08:05:08.887Z"
   },
   {
    "duration": 547,
    "start_time": "2022-08-24T08:07:51.278Z"
   },
   {
    "duration": 151,
    "start_time": "2022-08-24T08:08:13.885Z"
   },
   {
    "duration": 496,
    "start_time": "2022-08-24T08:08:25.396Z"
   },
   {
    "duration": 1239,
    "start_time": "2022-08-26T05:04:20.086Z"
   },
   {
    "duration": 24,
    "start_time": "2022-08-26T05:04:21.328Z"
   },
   {
    "duration": 16,
    "start_time": "2022-08-26T05:04:21.353Z"
   },
   {
    "duration": 15,
    "start_time": "2022-08-26T05:04:21.371Z"
   },
   {
    "duration": 8,
    "start_time": "2022-08-26T05:04:21.387Z"
   },
   {
    "duration": 27,
    "start_time": "2022-08-26T05:04:21.396Z"
   },
   {
    "duration": 22,
    "start_time": "2022-08-26T05:04:21.425Z"
   },
   {
    "duration": 17,
    "start_time": "2022-08-26T05:04:21.449Z"
   },
   {
    "duration": 10,
    "start_time": "2022-08-26T05:04:21.468Z"
   },
   {
    "duration": 413,
    "start_time": "2022-08-26T05:04:28.390Z"
   },
   {
    "duration": 142,
    "start_time": "2022-08-26T05:09:27.152Z"
   },
   {
    "duration": 32,
    "start_time": "2022-08-26T05:09:43.029Z"
   },
   {
    "duration": 29,
    "start_time": "2022-08-26T05:09:57.766Z"
   },
   {
    "duration": 30,
    "start_time": "2022-08-26T05:10:11.884Z"
   },
   {
    "duration": 57,
    "start_time": "2022-08-26T07:33:23.665Z"
   },
   {
    "duration": 15,
    "start_time": "2022-08-26T07:33:30.657Z"
   },
   {
    "duration": 38305,
    "start_time": "2022-08-26T07:34:08.405Z"
   },
   {
    "duration": 38242,
    "start_time": "2022-08-26T07:35:35.086Z"
   },
   {
    "duration": 38544,
    "start_time": "2022-08-26T07:36:23.020Z"
   },
   {
    "duration": 300,
    "start_time": "2022-08-26T07:37:50.122Z"
   },
   {
    "duration": 332,
    "start_time": "2022-08-26T07:38:26.005Z"
   },
   {
    "duration": 29,
    "start_time": "2022-08-26T07:43:40.606Z"
   },
   {
    "duration": 311,
    "start_time": "2022-08-26T07:44:02.891Z"
   },
   {
    "duration": 321,
    "start_time": "2022-08-26T07:44:18.258Z"
   },
   {
    "duration": 10,
    "start_time": "2022-08-26T07:44:37.371Z"
   },
   {
    "duration": 15,
    "start_time": "2022-08-26T07:44:40.995Z"
   },
   {
    "duration": 34,
    "start_time": "2022-08-26T07:44:43.405Z"
   },
   {
    "duration": 408,
    "start_time": "2022-08-26T07:44:49.163Z"
   },
   {
    "duration": 451,
    "start_time": "2022-08-26T07:44:58.214Z"
   },
   {
    "duration": 38519,
    "start_time": "2022-08-26T07:46:48.772Z"
   },
   {
    "duration": 331,
    "start_time": "2022-08-26T07:47:56.681Z"
   },
   {
    "duration": 503,
    "start_time": "2022-08-26T07:48:10.463Z"
   },
   {
    "duration": 319,
    "start_time": "2022-08-26T07:49:37.331Z"
   },
   {
    "duration": 428,
    "start_time": "2022-08-26T07:51:01.088Z"
   },
   {
    "duration": 330,
    "start_time": "2022-08-26T07:52:54.281Z"
   },
   {
    "duration": 492,
    "start_time": "2022-08-26T07:53:45.910Z"
   },
   {
    "duration": 735,
    "start_time": "2022-08-26T07:53:56.009Z"
   },
   {
    "duration": 533,
    "start_time": "2022-08-26T07:54:06.809Z"
   },
   {
    "duration": 454,
    "start_time": "2022-08-26T07:54:43.810Z"
   },
   {
    "duration": 327,
    "start_time": "2022-08-26T07:55:45.236Z"
   },
   {
    "duration": 335,
    "start_time": "2022-08-26T07:59:46.539Z"
   },
   {
    "duration": 334,
    "start_time": "2022-08-26T08:01:39.038Z"
   },
   {
    "duration": 1559,
    "start_time": "2022-09-05T14:07:46.955Z"
   },
   {
    "duration": 21,
    "start_time": "2022-09-05T14:07:48.516Z"
   },
   {
    "duration": 16,
    "start_time": "2022-09-05T14:07:50.863Z"
   },
   {
    "duration": 18,
    "start_time": "2022-09-05T14:07:51.784Z"
   },
   {
    "duration": 8,
    "start_time": "2022-09-05T14:07:53.770Z"
   },
   {
    "duration": 14,
    "start_time": "2022-09-05T14:07:59.842Z"
   },
   {
    "duration": 21,
    "start_time": "2022-09-05T14:08:03.378Z"
   },
   {
    "duration": 12,
    "start_time": "2022-09-05T14:08:04.390Z"
   },
   {
    "duration": 6,
    "start_time": "2022-09-05T14:08:06.086Z"
   },
   {
    "duration": 458,
    "start_time": "2022-09-05T14:08:07.588Z"
   },
   {
    "duration": 30,
    "start_time": "2022-09-05T14:08:10.004Z"
   },
   {
    "duration": 35,
    "start_time": "2022-09-05T14:12:03.448Z"
   },
   {
    "duration": 342,
    "start_time": "2022-09-05T14:12:03.594Z"
   },
   {
    "duration": 381,
    "start_time": "2022-09-05T14:12:03.938Z"
   },
   {
    "duration": 341,
    "start_time": "2022-09-05T14:12:04.321Z"
   },
   {
    "duration": 12,
    "start_time": "2022-09-05T14:12:04.664Z"
   },
   {
    "duration": 48,
    "start_time": "2022-09-05T14:12:04.678Z"
   },
   {
    "duration": 489,
    "start_time": "2022-09-05T14:12:04.728Z"
   },
   {
    "duration": 510,
    "start_time": "2022-09-05T14:12:05.219Z"
   },
   {
    "duration": 485,
    "start_time": "2022-09-05T14:12:05.731Z"
   }
  ],
  "kernelspec": {
   "display_name": "Python 3",
   "language": "python",
   "name": "python3"
  },
  "language_info": {
   "codemirror_mode": {
    "name": "ipython",
    "version": 3
   },
   "file_extension": ".py",
   "mimetype": "text/x-python",
   "name": "python",
   "nbconvert_exporter": "python",
   "pygments_lexer": "ipython3",
   "version": "3.8.8"
  },
  "toc": {
   "base_numbering": 1,
   "nav_menu": {},
   "number_sections": true,
   "sideBar": true,
   "skip_h1_title": true,
   "title_cell": "Содержание",
   "title_sidebar": "Contents",
   "toc_cell": true,
   "toc_position": {},
   "toc_section_display": true,
   "toc_window_display": true
  }
 },
 "nbformat": 4,
 "nbformat_minor": 2
}
